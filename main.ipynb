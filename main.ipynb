{
 "cells": [
  {
   "cell_type": "code",
   "execution_count": 4,
   "metadata": {},
   "outputs": [],
   "source": [
    "import pandas as pd\n",
    "import argparse\n",
    "import requests\n",
    "import re\n",
    "import os\n",
    "from bs4 import BeautifulSoup\n",
    "from dotenv import load_dotenv\n",
    "from classes import ArxivPaper, EmPaper\n",
    "\n",
    "load_dotenv()\n",
    "GOOGLE_DRIVE_PATH = os.getenv(\"GOOGLE_DRIVE_PATH\")"
   ]
  },
  {
   "cell_type": "code",
   "execution_count": 2,
   "metadata": {},
   "outputs": [
    {
     "data": {
      "text/plain": [
       "Namespace(url='https://arxiv.org/abs/2304.15004', notes='This is a test note')"
      ]
     },
     "execution_count": 2,
     "metadata": {},
     "output_type": "execute_result"
    }
   ],
   "source": [
    "# Get CLI argument of URL\n",
    "parser = argparse.ArgumentParser()\n",
    "parser.add_argument(\"url\", help=\"URL of the Emergent Mind paper\")\n",
    "parser.add_argument(\"--notes\", help=\"Notes for the paper\")\n",
    "args = parser.parse_args()\n",
    "\n",
    "# # Demo for Jupyter development\n",
    "# args = argparse.Namespace()\n",
    "# # args.url = 'https://www.emergentmind.com/papers/2404.01810'\n",
    "# args.url = 'https://arxiv.org/abs/2304.15004'\n",
    "# args.notes = 'This is a test note'\n",
    "# args"
   ]
  },
  {
   "cell_type": "code",
   "execution_count": 3,
   "metadata": {},
   "outputs": [],
   "source": [
    "# Load necessary data\n",
    "df = pd.read_excel(f\"{GOOGLE_DRIVE_PATH}/arxiv_papers.xlsx\")\n",
    "article_id = args.url.split(\"/\")[-1]\n",
    "response = requests.get(args.url)\n",
    "soup = BeautifulSoup(response.content, \"html.parser\")"
   ]
  },
  {
   "cell_type": "code",
   "execution_count": 5,
   "metadata": {},
   "outputs": [],
   "source": [
    "# Create the paper object\n",
    "is_arxiv = bool(re.search(\"arxiv\", args.url))\n",
    "paper = (\n",
    "    ArxivPaper(article_id, soup, args.notes)\n",
    "    if is_arxiv\n",
    "    else EmPaper(article_id, soup, args.notes)\n",
    ")"
   ]
  },
  {
   "cell_type": "code",
   "execution_count": 8,
   "metadata": {},
   "outputs": [],
   "source": [
    "# Write data to dataframe\n",
    "new_row = pd.DataFrame(\n",
    "    {\n",
    "        \"arxiv_id\": [article_id],\n",
    "        \"title\": [paper.title],\n",
    "        \"publication_date\": [paper.date],\n",
    "        \"abstract\": [paper.abstract],\n",
    "        \"notes\": [args.notes],\n",
    "        \"arxiv_url\": [paper.arxiv_url],\n",
    "        \"em_url\": [paper.em_url],\n",
    "    }\n",
    ")\n",
    "df = pd.concat([df, new_row], ignore_index=True)\n",
    "\n",
    "# Save the dataframe\n",
    "df.to_excel(f\"{GOOGLE_DRIVE_PATH}/arxiv_papers.xlsx\", index=False)"
   ]
  }
 ],
 "metadata": {
  "kernelspec": {
   "display_name": ".venv",
   "language": "python",
   "name": "python3"
  },
  "language_info": {
   "codemirror_mode": {
    "name": "ipython",
    "version": 3
   },
   "file_extension": ".py",
   "mimetype": "text/x-python",
   "name": "python",
   "nbconvert_exporter": "python",
   "pygments_lexer": "ipython3",
   "version": "3.11.6"
  }
 },
 "nbformat": 4,
 "nbformat_minor": 2
}
