{
 "cells": [
  {
   "cell_type": "code",
   "execution_count": 1,
   "metadata": {},
   "outputs": [],
   "source": [
    "import pandas as pd\n",
    "import os\n",
    "\n",
    "GOOGLE_DRIVE_PATH = os.getenv(\"GOOGLE_DRIVE_PATH\")"
   ]
  },
  {
   "cell_type": "code",
   "execution_count": null,
   "metadata": {},
   "outputs": [],
   "source": [
    "# Initial dataframe setup\n",
    "df = pd.DataFrame(\n",
    "    columns=[\n",
    "        \"arxiv_id\",\n",
    "        \"title\",\n",
    "        \"publication_date\",\n",
    "        \"abstract\",\n",
    "        \"notes\",\n",
    "        \"arxiv_url\",\n",
    "        \"em_url\",\n",
    "    ]\n",
    ")\n",
    "\n",
    "df.to_excel(f\"{GOOGLE_DRIVE_PATH}/arxiv_papers.xlsx\", index=False)\n",
    "df.head()"
   ]
  }
 ],
 "metadata": {
  "kernelspec": {
   "display_name": ".venv",
   "language": "python",
   "name": "python3"
  },
  "language_info": {
   "codemirror_mode": {
    "name": "ipython",
    "version": 3
   },
   "file_extension": ".py",
   "mimetype": "text/x-python",
   "name": "python",
   "nbconvert_exporter": "python",
   "pygments_lexer": "ipython3",
   "version": "3.11.6"
  }
 },
 "nbformat": 4,
 "nbformat_minor": 2
}
