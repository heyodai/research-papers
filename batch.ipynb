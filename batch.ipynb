{
 "cells": [
  {
   "cell_type": "markdown",
   "metadata": {},
   "source": [
    "Execute the `main.py` script in batches from URLs in the `batch.txt` file."
   ]
  },
  {
   "cell_type": "code",
   "execution_count": 8,
   "metadata": {},
   "outputs": [],
   "source": [
    "import os"
   ]
  },
  {
   "cell_type": "code",
   "execution_count": 9,
   "metadata": {},
   "outputs": [
    {
     "name": "stdout",
     "output_type": "stream",
     "text": [
      "/Users/odai/research-papers\n"
     ]
    }
   ],
   "source": [
    "# Check pwd\n",
    "print(os.getcwd())"
   ]
  },
  {
   "cell_type": "code",
   "execution_count": 10,
   "metadata": {},
   "outputs": [
    {
     "data": {
      "text/plain": [
       "0"
      ]
     },
     "execution_count": 10,
     "metadata": {},
     "output_type": "execute_result"
    }
   ],
   "source": [
    "# Activate venv\n",
    "os.system('source .venv/bin/activate')"
   ]
  },
  {
   "cell_type": "code",
   "execution_count": 11,
   "metadata": {},
   "outputs": [
    {
     "name": "stderr",
     "output_type": "stream",
     "text": [
      "Traceback (most recent call last):\n",
      "  File \"/Users/odai/research-papers/main.py\", line 142, in <module>\n",
      "    date = datetime.datetime.strptime(date, \"%b %d, %Y\").date()\n",
      "           ^^^^^^^^^^^^^^^^^^^^^^^^^^^^^^^^^^^^^^^^^^^^^\n",
      "TypeError: strptime() argument 1 must be str, not None\n",
      "Traceback (most recent call last):\n",
      "  File \"/Users/odai/research-papers/main.py\", line 142, in <module>\n",
      "    date = datetime.datetime.strptime(date, \"%b %d, %Y\").date()\n",
      "           ^^^^^^^^^^^^^^^^^^^^^^^^^^^^^^^^^^^^^^^^^^^^^\n",
      "TypeError: strptime() argument 1 must be str, not None\n",
      "Traceback (most recent call last):\n",
      "  File \"/Users/odai/research-papers/main.py\", line 142, in <module>\n",
      "    date = datetime.datetime.strptime(date, \"%b %d, %Y\").date()\n",
      "           ^^^^^^^^^^^^^^^^^^^^^^^^^^^^^^^^^^^^^^^^^^^^^\n",
      "TypeError: strptime() argument 1 must be str, not None\n",
      "Traceback (most recent call last):\n",
      "  File \"/Users/odai/research-papers/main.py\", line 142, in <module>\n",
      "    date = datetime.datetime.strptime(date, \"%b %d, %Y\").date()\n",
      "           ^^^^^^^^^^^^^^^^^^^^^^^^^^^^^^^^^^^^^^^^^^^^^\n",
      "TypeError: strptime() argument 1 must be str, not None\n",
      "Traceback (most recent call last):\n",
      "  File \"/Users/odai/research-papers/main.py\", line 142, in <module>\n",
      "    date = datetime.datetime.strptime(date, \"%b %d, %Y\").date()\n",
      "           ^^^^^^^^^^^^^^^^^^^^^^^^^^^^^^^^^^^^^^^^^^^^^\n",
      "TypeError: strptime() argument 1 must be str, not None\n",
      "Traceback (most recent call last):\n",
      "  File \"/Users/odai/research-papers/main.py\", line 142, in <module>\n",
      "    date = datetime.datetime.strptime(date, \"%b %d, %Y\").date()\n",
      "           ^^^^^^^^^^^^^^^^^^^^^^^^^^^^^^^^^^^^^^^^^^^^^\n",
      "TypeError: strptime() argument 1 must be str, not None\n",
      "Traceback (most recent call last):\n",
      "  File \"/Users/odai/research-papers/main.py\", line 142, in <module>\n",
      "    date = datetime.datetime.strptime(date, \"%b %d, %Y\").date()\n",
      "           ^^^^^^^^^^^^^^^^^^^^^^^^^^^^^^^^^^^^^^^^^^^^^\n",
      "TypeError: strptime() argument 1 must be str, not None\n",
      "Traceback (most recent call last):\n",
      "  File \"/Users/odai/research-papers/main.py\", line 142, in <module>\n",
      "    date = datetime.datetime.strptime(date, \"%b %d, %Y\").date()\n",
      "           ^^^^^^^^^^^^^^^^^^^^^^^^^^^^^^^^^^^^^^^^^^^^^\n",
      "TypeError: strptime() argument 1 must be str, not None\n",
      "Traceback (most recent call last):\n",
      "  File \"/Users/odai/research-papers/main.py\", line 142, in <module>\n",
      "    date = datetime.datetime.strptime(date, \"%b %d, %Y\").date()\n",
      "           ^^^^^^^^^^^^^^^^^^^^^^^^^^^^^^^^^^^^^^^^^^^^^\n",
      "TypeError: strptime() argument 1 must be str, not None\n"
     ]
    }
   ],
   "source": [
    "# Open batch.txt\n",
    "with open('batch.txt', 'r') as f:\n",
    "    # Read the file\n",
    "    lines = f.readlines()\n",
    "\n",
    "    for url in lines:\n",
    "        # Remove the trailing newline character\n",
    "        url = url.strip()\n",
    "        \n",
    "        # Execute the command\n",
    "        os.system(f'python main.py {url}')"
   ]
  }
 ],
 "metadata": {
  "kernelspec": {
   "display_name": ".venv",
   "language": "python",
   "name": "python3"
  },
  "language_info": {
   "codemirror_mode": {
    "name": "ipython",
    "version": 3
   },
   "file_extension": ".py",
   "mimetype": "text/x-python",
   "name": "python",
   "nbconvert_exporter": "python",
   "pygments_lexer": "ipython3",
   "version": "3.11.6"
  }
 },
 "nbformat": 4,
 "nbformat_minor": 2
}
